{
 "cells": [
  {
   "cell_type": "markdown",
   "id": "a7cece8f",
   "metadata": {},
   "source": [
    "# Take a look at your dataset"
   ]
  },
  {
   "cell_type": "code",
   "execution_count": 19,
   "id": "e8208788",
   "metadata": {},
   "outputs": [
    {
     "name": "stdout",
     "output_type": "stream",
     "text": [
      "PyTorch: 2.0.0+cu117\n",
      "torch CUDA: 11.7\n",
      "PyG (PyTorch Geometric): 2.3.0\n",
      "Python 3.10.10\n"
     ]
    }
   ],
   "source": [
    "!python -c \"import torch; print('PyTorch:',torch.__version__)\"\n",
    "!python -c \"import torch; print('torch CUDA:',torch.version.cuda)\"\n",
    "!python -c \"import torch_geometric; print('PyG (PyTorch Geometric):',torch_geometric.__version__)\"\n",
    "!python --version\n",
    "# !nvidia-smi"
   ]
  },
  {
   "cell_type": "code",
   "execution_count": 20,
   "id": "8d6af81f",
   "metadata": {},
   "outputs": [],
   "source": [
    "import sys\n",
    "import os\n",
    "import os.path as osp\n",
    "import random\n",
    "\n",
    "import numpy as np\n",
    "import pandas as pd\n",
    "from scipy import sparse\n",
    "from torch_geometric.datasets import MoleculeNet, MovieLens\n",
    "from torch_geometric.data import Dataset, InMemoryDataset, Data, download_url\n",
    "from torch_geometric.utils import negative_sampling, convert, to_dense_adj, to_networkx\n",
    "from torch_geometric.nn import GCNConv, SAGEConv\n",
    "from torch_geometric.nn.conv import MessagePassing\n",
    "import torch\n",
    "\n",
    "import networkx as nx\n",
    "import matplotlib.pyplot as plt\n",
    "from tqdm import tqdm\n",
    "\n",
    "from rdkit import Chem\n",
    "from torch_geometric.data.collate import collate\n",
    "from torch_geometric.data.separate import separate"
   ]
  },
  {
   "cell_type": "code",
   "execution_count": 21,
   "id": "371178a5",
   "metadata": {},
   "outputs": [
    {
     "name": "stderr",
     "output_type": "stream",
     "text": [
      "Downloading https://deepchemdata.s3-us-west-1.amazonaws.com/datasets/BBBP.csv\n",
      "Processing...\n",
      "Done!\n"
     ]
    },
    {
     "data": {
      "text/plain": [
       "BBPB(2050)"
      ]
     },
     "execution_count": 21,
     "metadata": {},
     "output_type": "execute_result"
    }
   ],
   "source": [
    "\n",
    "# we chose ESOL from MoleculeNet for instance\n",
    "data = MoleculeNet(root=\".\", name=\"BBBP\")\n",
    "data\n"
   ]
  },
  {
   "cell_type": "code",
   "execution_count": 22,
   "id": "6e777efb",
   "metadata": {},
   "outputs": [
    {
     "data": {
      "text/plain": [
       "Data(x=[20, 9], edge_index=[2, 40], edge_attr=[40, 3], smiles='[Cl].CC(C)NCC(O)COc1cccc2ccccc12', y=[1, 1])"
      ]
     },
     "execution_count": 22,
     "metadata": {},
     "output_type": "execute_result"
    }
   ],
   "source": [
    "data[0]"
   ]
  },
  {
   "cell_type": "code",
   "execution_count": 23,
   "id": "71a3ac9f",
   "metadata": {},
   "outputs": [
    {
     "name": "stdout",
     "output_type": "stream",
     "text": [
      "Dataset type:  <class 'torch_geometric.datasets.molecule_net.MoleculeNet'>\n",
      "This database contains  2050  graphs\n",
      "Each node of each of the graphs contains  9  features\n",
      "This dataset is separated in  2  classes\n",
      "\n",
      "The number of FIRST GRAPH nodes IN DATASET:  20\n",
      "The number of FIRST GRAPH edges IN DATASET:  20.0\n",
      "The average of FIRST GRAPH node degree IN DATASET:  2.0\n",
      "\n",
      "The number of total nodes:  49068   First approach\n",
      "The number of total edges:  52921.0   First approach\n",
      "The average of total node degree:  2.157047362843401   First approach\n",
      "\n",
      "The huge graph which include all subgraphs:  Data(x=[49068, 9], edge_index=[2, 105842], edge_attr=[105842, 3], smiles=[2050], y=[2050, 1])\n",
      "Each node of this graph contains 9 features\n",
      "The number of total nodes:  49068   Second approach\n",
      "The number of total edges:  52921.0   Second approach\n",
      "The average of total node degree:  2.157047362843401   Second approach\n",
      "\n"
     ]
    }
   ],
   "source": [
    "# Investigating the dataset\n",
    "print(\"Dataset type: \", type(data))\n",
    "  ############# Your code here ############\n",
    "\n",
    "### !!! We will consider all graphs as UNDIRECTED !!! ###\n",
    "\n",
    "\n",
    "print(\"This database contains \", data.len(), \" graphs\")\n",
    "print(\"Each node of each of the graphs contains \", data.num_node_features, \" features\")\n",
    "print(\"This dataset is separated in \", data.num_classes, \" classes\")\n",
    "print()\n",
    "\n",
    "### We are going to display the information of FIRST GRAPH IN DATASET at the beginning\n",
    "### after that We are going to display the information of ENTIRE DATASET\n",
    "\n",
    "### FIRST GRAPH informations\n",
    "\n",
    "print(\"The number of FIRST GRAPH nodes IN DATASET: \", data[0].num_nodes)\n",
    "\"\"\"\n",
    "because of the fact that We want to consider all graphs as undirected \n",
    "and in the definition of graph, there are two edges for each edge, \n",
    "we divide the output of function in 2\n",
    "\"\"\"\n",
    "print(\"The number of FIRST GRAPH edges IN DATASET: \", data[0].num_edges/2)\n",
    "print(\"The average of FIRST GRAPH node degree IN DATASET: \", data[0].num_edges/data[0].num_nodes)\n",
    "print()\n",
    "\n",
    "### ENTIRE DATASET informations\n",
    "\n",
    "# First approach for finding the number of all nodes and edges\n",
    "# It is used a loop for Investigating each Graph\n",
    "num_nodes_list = []\n",
    "num_edges_list = []\n",
    "for grp in data:\n",
    "    num_nodes_list.append(grp.num_nodes)\n",
    "    num_edges_list.append(grp.num_edges / 2)\n",
    "print(\"The number of total nodes: \", sum(num_nodes_list), \"  First approach\")\n",
    "print(\"The number of total edges: \", sum(num_edges_list), \"  First approach\")\n",
    "print(\"The average of total node degree: \", (2*sum(num_edges_list) / sum(num_nodes_list)), \"  First approach\")\n",
    "print()\n",
    "\n",
    "# Second approach for finding the number of all nodes and edges\n",
    "# we will merge each data which is a graph in this dataset, together as one huge Graph\n",
    "# in other word we consider all graphs as one huge graph\n",
    "huge_data, slices, _ = collate(\n",
    "                    data[0].__class__, \n",
    "                    data_list=data, \n",
    "                    increment=False, \n",
    "                    add_batch=False, \n",
    "                    )\n",
    "print(\"The huge graph which include all subgraphs: \", huge_data)\n",
    "print(\"Each node of this graph contains\", huge_data.num_node_features, \"features\")\n",
    "\n",
    "print(\"The number of total nodes: \", huge_data.num_nodes, \"  Second approach\")\n",
    "\n",
    "\"\"\"\n",
    "because of the fact that We want to consider all graphs as undirected \n",
    "and in the definition of graph, there are two edges for each edge, \n",
    "we divide the output of function in 2\n",
    "\"\"\"\n",
    "\n",
    "print(\"The number of total edges: \", huge_data.num_edges / 2, \"  Second approach\")\n",
    "print(\"The average of total node degree: \", huge_data.num_edges / huge_data.num_nodes, \"  Second approach\")\n",
    "print()\n",
    "\n",
    "\n",
    "  #########################################\n",
    "\n",
    "# edge_index = graph connections\n",
    "# smiles = molecule with its atoms\n",
    "# x = node features (32 nodes have each 9 features)\n",
    "# y = labels (dimension)"
   ]
  },
  {
   "cell_type": "code",
   "execution_count": 24,
   "id": "76883fca",
   "metadata": {},
   "outputs": [
    {
     "data": {
      "text/plain": [
       "tensor([[17,  0,  0,  5,  0,  1,  4,  0,  0],\n",
       "        [ 6,  0,  4,  5,  3,  0,  4,  0,  0],\n",
       "        [ 6,  0,  4,  5,  1,  0,  4,  0,  0],\n",
       "        [ 6,  0,  4,  5,  3,  0,  4,  0,  0],\n",
       "        [ 7,  0,  3,  5,  1,  0,  4,  0,  0],\n",
       "        [ 6,  0,  4,  5,  2,  0,  4,  0,  0],\n",
       "        [ 6,  0,  4,  5,  1,  0,  4,  0,  0],\n",
       "        [ 8,  0,  2,  5,  1,  0,  4,  0,  0],\n",
       "        [ 6,  0,  4,  5,  2,  0,  4,  0,  0],\n",
       "        [ 8,  0,  2,  5,  0,  0,  3,  0,  0],\n",
       "        [ 6,  0,  3,  5,  0,  0,  3,  1,  1],\n",
       "        [ 6,  0,  3,  5,  1,  0,  3,  1,  1],\n",
       "        [ 6,  0,  3,  5,  1,  0,  3,  1,  1],\n",
       "        [ 6,  0,  3,  5,  1,  0,  3,  1,  1],\n",
       "        [ 6,  0,  3,  5,  0,  0,  3,  1,  1],\n",
       "        [ 6,  0,  3,  5,  1,  0,  3,  1,  1],\n",
       "        [ 6,  0,  3,  5,  1,  0,  3,  1,  1],\n",
       "        [ 6,  0,  3,  5,  1,  0,  3,  1,  1],\n",
       "        [ 6,  0,  3,  5,  1,  0,  3,  1,  1],\n",
       "        [ 6,  0,  3,  5,  0,  0,  3,  1,  1]])"
      ]
     },
     "metadata": {},
     "output_type": "display_data"
    }
   ],
   "source": [
    "# Investigating the features\n",
    "# Shape: [num_nodes, num_node_features]\n",
    "display(data[0].x)"
   ]
  },
  {
   "cell_type": "code",
   "execution_count": 25,
   "id": "ee8825c8",
   "metadata": {},
   "outputs": [
    {
     "data": {
      "text/plain": [
       "tensor([[ 1,  2],\n",
       "        [ 2,  1],\n",
       "        [ 2,  3],\n",
       "        [ 2,  4],\n",
       "        [ 3,  2],\n",
       "        [ 4,  2],\n",
       "        [ 4,  5],\n",
       "        [ 5,  4],\n",
       "        [ 5,  6],\n",
       "        [ 6,  5],\n",
       "        [ 6,  7],\n",
       "        [ 6,  8],\n",
       "        [ 7,  6],\n",
       "        [ 8,  6],\n",
       "        [ 8,  9],\n",
       "        [ 9,  8],\n",
       "        [ 9, 10],\n",
       "        [10,  9],\n",
       "        [10, 11],\n",
       "        [10, 19],\n",
       "        [11, 10],\n",
       "        [11, 12],\n",
       "        [12, 11],\n",
       "        [12, 13],\n",
       "        [13, 12],\n",
       "        [13, 14],\n",
       "        [14, 13],\n",
       "        [14, 15],\n",
       "        [14, 19],\n",
       "        [15, 14],\n",
       "        [15, 16],\n",
       "        [16, 15],\n",
       "        [16, 17],\n",
       "        [17, 16],\n",
       "        [17, 18],\n",
       "        [18, 17],\n",
       "        [18, 19],\n",
       "        [19, 10],\n",
       "        [19, 14],\n",
       "        [19, 18]])"
      ]
     },
     "execution_count": 25,
     "metadata": {},
     "output_type": "execute_result"
    }
   ],
   "source": [
    "# Investigating the edges in sparse COO format\n",
    "# Shape [2, num_edges]\n",
    "data[0].edge_index.t()"
   ]
  },
  {
   "cell_type": "code",
   "execution_count": 26,
   "id": "ab585500",
   "metadata": {},
   "outputs": [
    {
     "name": "stdout",
     "output_type": "stream",
     "text": [
      "This is subgraph with index 400\n"
     ]
    },
    {
     "data": {
      "image/png": "[encoded data removed]",
      "text/plain": [
       "<Figure size 640x480 with 1 Axes>"
      ]
     },
     "metadata": {},
     "output_type": "display_data"
    }
   ],
   "source": [
    "random_index = random.randint(0,  data.len()-1)\n",
    "\n",
    "### We will make a networkx undirected Graph and draw it for a random subgraph\n",
    "G= to_networkx(data[random_index], to_undirected=True)\n",
    "\n",
    "#fig = plt.figure(1, figsize=(10, 10))\n",
    "print(\"This is subgraph with index\", random_index)\n",
    "nx.draw(G, with_labels=True, node_size=500, width=3, font_size=10) "
   ]
  },
  {
   "cell_type": "code",
   "execution_count": 27,
   "id": "d0373ad8",
   "metadata": {},
   "outputs": [
    {
     "data": {
      "text/plain": [
       "False"
      ]
     },
     "execution_count": 27,
     "metadata": {},
     "output_type": "execute_result"
    }
   ],
   "source": [
    "G.is_directed()"
   ]
  },
  {
   "cell_type": "markdown",
   "id": "9f60c95c",
   "metadata": {},
   "source": [
    "# Creating your own Dataset:"
   ]
  },
  {
   "cell_type": "code",
   "execution_count": 28,
   "id": "284c00a4",
   "metadata": {},
   "outputs": [],
   "source": [
    "class MyOwnDataset(Dataset):\n",
    "    def __init__(self, root, transform=None, pre_transform=None, pre_filter=None):\n",
    "        super().__init__(root, transform, pre_transform, pre_filter)\n",
    "    \n",
    "    @property\n",
    "    def raw_file_names(self):\n",
    "        ### This function check necessary files for process function (raw files)\n",
    "        ### if all files exist in directory already, There is no need to download it again\n",
    "\n",
    "        return ['BBBP.csv']\n",
    "    \n",
    "    @property\n",
    "    def processed_file_names(self):\n",
    "        ### This function check output files of process function \n",
    "        ### if all output files exist in directory already, There is no need to process raw files again\n",
    "        # return ['data_1.pt', 'data_2.pt', ...]\n",
    "\n",
    "        return [f'data_processed_{i}.pt' for i in range(len(self.raw_paths))] \n",
    "\n",
    "    def download(self):\n",
    "        ### This function download necessary files for process function (raw files)\n",
    "        ### Turn on your VPN !!\n",
    "        # Download to `self.raw_dir`.\n",
    "        # Turn on your VPN\n",
    "        \"Downloading...\"\n",
    "\n",
    "        path = download_url(\"https://deepchemdata.s3-us-west-1.amazonaws.com/datasets/BBBP.csv\", self.raw_dir)\n",
    "\n",
    "    def process(self):\n",
    "        ### This function Will process raw files\n",
    "\n",
    "        idx = 0\n",
    "        for raw_path in self.raw_paths:\n",
    "            # Read data from `raw_path`.\n",
    "            # data = Data(...)\n",
    "\n",
    "            raw_data = pd.read_csv(raw_path)\n",
    "            \n",
    "            data_list = []\n",
    "            black_list = []\n",
    "            \n",
    "            for index, mol in raw_data.iterrows(): \n",
    "                mol_obj = Chem.MolFromSmiles(mol[\"smiles\"])\n",
    "\n",
    "                if mol_obj is None:\n",
    "                    black_list.append(index)\n",
    "                    print(\"!! There is a PROBLEM in the data's smiles input with index: \", index, \"!!\")\n",
    "                    continue\n",
    "\n",
    "                # Get node features\n",
    "                node_feats = self._get_node_features(mol_obj)\n",
    "                # Get edge features\n",
    "                edge_feats = self._get_edge_features(mol_obj)\n",
    "                # Get adjacency info\n",
    "                edge_index = self._get_adjacency_info(mol_obj)\n",
    "                # Get labels info\n",
    "                label = self._get_labels(mol[\"p_np\"])\n",
    "\n",
    "                # Create data object\n",
    "                data = Data(x=node_feats, \n",
    "                            edge_index=edge_index,\n",
    "                            edge_attr=edge_feats,\n",
    "                            y=label,\n",
    "                            smiles=mol[\"smiles\"]\n",
    "                            ) \n",
    "                \n",
    "                # create a list of Data\n",
    "                data_list.append(data)\n",
    "\n",
    "            \n",
    "            \"\"\"\n",
    "            Here, we need to read and create a list of Data objects and save it into the processed_dir. \n",
    "            Because saving a huge python list is rather slow, we collate the list into one huge Data object via collate() before saving. \n",
    "            The collated data object has concatenated all examples into one big data object \n",
    "            and, in addition, returns a slices dictionary to reconstruct single examples from this object. \n",
    "            Finally, we need to load these two objects in the constructor into the properties self.data and self.slices\n",
    "            \"\"\"\n",
    "            data, slices, _ = collate(\n",
    "                    data_list[0].__class__, \n",
    "                    data_list=data_list, \n",
    "                    increment=False, \n",
    "                    add_batch=False, \n",
    "            )\n",
    "\n",
    "            if self.pre_filter is not None and not self.pre_filter(data):\n",
    "                continue\n",
    "            \n",
    "            if self.pre_transform is not None:\n",
    "                data = self.pre_transform(data)\n",
    "\n",
    "            ### save huge Data object\n",
    "            torch.save((data, slices), osp.join(self.processed_dir, f'data_processed_{idx}.pt'))\n",
    "            idx += 1\n",
    "\n",
    "    def _get_node_features(self, mol):\n",
    "        \"\"\" \n",
    "        This will return a matrix / 2d array of the shape\n",
    "        [Number of Nodes, Node Feature size]\n",
    "        \"\"\"\n",
    "\n",
    "        ### Get Adjacency Matrix\n",
    "        adj_mat = Chem.rdmolops.GetAdjacencyMatrix(mol)\n",
    "        sprs_adj_mat = sparse.csr_matrix(adj_mat)\n",
    "        graph_mol = nx.from_scipy_sparse_array(sprs_adj_mat)\n",
    "\n",
    "        cc_graph_mol = nx.closeness_centrality(graph_mol)\n",
    "        bc_graph_mol = nx.betweenness_centrality(graph_mol)\n",
    "        pr_graph_mol = nx.pagerank(graph_mol)\n",
    "        \n",
    "        all_node_feats = []\n",
    "        for atom in mol.GetAtoms():\n",
    "            node_feats = []\n",
    "\n",
    "            ### RDKit Features ###\n",
    "            # Feature 1: Atomic number        \n",
    "            node_feats.append(atom.GetAtomicNum())\n",
    "            # Feature 2: Atom degree\n",
    "            node_feats.append(atom.GetDegree())\n",
    "            # Feature 3: Formal charge\n",
    "            node_feats.append(atom.GetFormalCharge())\n",
    "            # Feature 4: Hybridization\n",
    "            node_feats.append(atom.GetHybridization())\n",
    "            # Feature 5: Aromaticity\n",
    "            node_feats.append(atom.GetIsAromatic())\n",
    "            # Feature 6: Total Num Hs\n",
    "            node_feats.append(atom.GetTotalNumHs())\n",
    "            # Feature 7: Radical Electrons\n",
    "            node_feats.append(atom.GetNumRadicalElectrons())\n",
    "            # Feature 8: In Ring\n",
    "            node_feats.append(atom.IsInRing())\n",
    "            # Feature 9: Chirality\n",
    "            node_feats.append(atom.GetChiralTag())\n",
    "\n",
    "            ### Structural Features ###\n",
    "            # Feature 10: Closeness Centrality\n",
    "            node_feats.append(cc_graph_mol[atom.GetIdx()])\n",
    "            # Feature 11: Betweenness Centrality\n",
    "            node_feats.append(bc_graph_mol[atom.GetIdx()])\n",
    "            # Feature 12: PageRank\n",
    "            node_feats.append(pr_graph_mol[atom.GetIdx()])\n",
    "\n",
    "            # Append node features to matrix\n",
    "            all_node_feats.append(node_feats)\n",
    "\n",
    "        all_node_feats = np.asarray(all_node_feats)\n",
    "        return torch.tensor(all_node_feats, dtype=torch.float)\n",
    "\n",
    "    def _get_edge_features(self, mol):\n",
    "        \"\"\" \n",
    "        This will return a matrix / 2d array of the shape\n",
    "        [Number of edges, Edge Feature size]\n",
    "        \"\"\"\n",
    "        all_edge_feats = []\n",
    "\n",
    "        for bond in mol.GetBonds():\n",
    "            edge_feats = []\n",
    "            # Feature 1: Bond type (as double)\n",
    "            edge_feats.append(bond.GetBondTypeAsDouble())\n",
    "            # Feature 2: Rings\n",
    "            edge_feats.append(bond.IsInRing())\n",
    "            # Append node features to matrix (twice, per direction)\n",
    "            all_edge_feats += [edge_feats, edge_feats]\n",
    "\n",
    "        all_edge_feats = np.asarray(all_edge_feats)\n",
    "        return torch.tensor(all_edge_feats, dtype=torch.float)\n",
    "\n",
    "    def _get_adjacency_info(self, mol):\n",
    "        \"\"\"\n",
    "        We could also use rdmolops.GetAdjacencyMatrix(mol)\n",
    "        but we want to be sure that the order of the indices\n",
    "        matches the order of the edge features\n",
    "        \"\"\"\n",
    "        edge_indices = []\n",
    "        for bond in mol.GetBonds():\n",
    "            i = bond.GetBeginAtomIdx()\n",
    "            j = bond.GetEndAtomIdx()\n",
    "            edge_indices += [[i, j], [j, i]]\n",
    "\n",
    "        edge_indices = torch.tensor(edge_indices)\n",
    "        edge_indices = edge_indices.t().to(torch.long).view(2, -1)\n",
    "        return edge_indices\n",
    "\n",
    "    def _get_labels(self, label):\n",
    "        label = np.asarray([label])\n",
    "        return torch.tensor(label, dtype=torch.int64)\n",
    "\n",
    "    def len(self):\n",
    "        return len(self.processed_file_names)\n",
    "\n",
    "    def get(self, idx):\n",
    "        ### This function extract and load each stored Data and return it\n",
    "\n",
    "        data = torch.load(osp.join(self.processed_dir, f'data_processed_{idx}.pt'))\n",
    "        data_list = []\n",
    "        i = 0\n",
    "        while (True):\n",
    "            try:\n",
    "                data_row = separate(\n",
    "                    cls=data[0].__class__,\n",
    "                    batch=data[0],\n",
    "                    idx=i,\n",
    "                    slice_dict=data[1],\n",
    "                    decrement=False,\n",
    "                        )\n",
    "                data_list.append(data_row)\n",
    "            except:\n",
    "                break\n",
    "            i += 1\n",
    "        return(data_list)\n",
    "    "
   ]
  },
  {
   "cell_type": "code",
   "execution_count": 29,
   "id": "6a8475a6",
   "metadata": {},
   "outputs": [
    {
     "name": "stderr",
     "output_type": "stream",
     "text": [
      "Downloading https://deepchemdata.s3-us-west-1.amazonaws.com/datasets/BBBP.csv\n",
      "Processing...\n"
     ]
    },
    {
     "name": "stdout",
     "output_type": "stream",
     "text": [
      "!! There is a PROBLEM in the data's smiles input with index:  59 !!\n",
      "!! There is a PROBLEM in the data's smiles input with index:  61 !!\n",
      "!! There is a PROBLEM in the data's smiles input with index:  391 !!\n",
      "!! There is a PROBLEM in the data's smiles input with index:  614 !!\n",
      "!! There is a PROBLEM in the data's smiles input with index:  642 !!\n",
      "!! There is a PROBLEM in the data's smiles input with index:  645 !!\n",
      "!! There is a PROBLEM in the data's smiles input with index:  646 !!\n",
      "!! There is a PROBLEM in the data's smiles input with index:  647 !!\n",
      "!! There is a PROBLEM in the data's smiles input with index:  648 !!\n",
      "!! There is a PROBLEM in the data's smiles input with index:  649 !!\n",
      "!! There is a PROBLEM in the data's smiles input with index:  685 !!\n"
     ]
    },
    {
     "name": "stderr",
     "output_type": "stream",
     "text": [
      "Done!\n"
     ]
    }
   ],
   "source": [
    "MOD = MyOwnDataset('root')"
   ]
  },
  {
   "cell_type": "code",
   "execution_count": 30,
   "id": "e355398d",
   "metadata": {},
   "outputs": [],
   "source": [
    "my_data = MOD.get(0)"
   ]
  },
  {
   "cell_type": "code",
   "execution_count": 31,
   "id": "1a1256e1",
   "metadata": {},
   "outputs": [
    {
     "data": {
      "text/plain": [
       "Data(x=[20, 12], edge_index=[2, 40], edge_attr=[40, 2], y=[1], smiles='[Cl].CC(C)NCC(O)COc1cccc2ccccc12')"
      ]
     },
     "execution_count": 31,
     "metadata": {},
     "output_type": "execute_result"
    }
   ],
   "source": [
    "my_data[0]"
   ]
  },
  {
   "cell_type": "code",
   "execution_count": 32,
   "id": "1ee80116",
   "metadata": {},
   "outputs": [
    {
     "name": "stdout",
     "output_type": "stream",
     "text": [
      "This is subgraph with index 1102\n"
     ]
    },
    {
     "data": {
      "image/png": "[encoded data removed]",
      "text/plain": [
       "<Figure size 640x480 with 1 Axes>"
      ]
     },
     "metadata": {},
     "output_type": "display_data"
    }
   ],
   "source": [
    "random_index = random.randint(0,  len(my_data)-1)\n",
    "\n",
    "### We will make a networkx undirected Graph for a random subgraph\n",
    "G= to_networkx(my_data[random_index], to_undirected=True)\n",
    "print(\"This is subgraph with index\", random_index)\n",
    "nx.draw(G, with_labels=True, node_size=500, width=3, font_size=10) "
   ]
  },
  {
   "cell_type": "code",
   "execution_count": 33,
   "id": "45895107",
   "metadata": {},
   "outputs": [
    {
     "name": "stdout",
     "output_type": "stream",
     "text": [
      "This induced subgraph belongs to subgraph with index 1102\n"
     ]
    },
    {
     "data": {
      "image/png": "[encoded data removed]",
      "text/plain": [
       "<Figure size 640x480 with 1 Axes>"
      ]
     },
     "metadata": {},
     "output_type": "display_data"
    }
   ],
   "source": [
    "### find average of node degree\n",
    "avg_deg = (data[random_index].num_edges)/data[random_index].num_nodes\n",
    "\n",
    "### make induced subgraph\n",
    "# node_with_great_degree = [item[0] for item in list(G.degree) if (item[1] > avg_deg)]\n",
    "sub_graph = nx.induced_subgraph(G, [item[0] for item in list(G.degree) if (item[1] > avg_deg)])\n",
    "\n",
    "### draw induced subgraph\n",
    "print(\"This induced subgraph belongs to subgraph with index\", random_index)\n",
    "nx.draw(sub_graph, with_labels=True, node_size=500, width=3, font_size=10)"
   ]
  }
 ],
 "metadata": {
  "kernelspec": {
   "display_name": "Python 3",
   "language": "python",
   "name": "python3"
  },
  "language_info": {
   "codemirror_mode": {
    "name": "ipython",
    "version": 3
   },
   "file_extension": ".py",
   "mimetype": "text/x-python",
   "name": "python",
   "nbconvert_exporter": "python",
   "pygments_lexer": "ipython3",
   "version": "3.10.10"
  },
  "vscode": {
   "interpreter": {
    "hash": "2a7764e5d00a7218a57bbd60a655505fc2342e727bda0f027b1e5f6d4545df63"
   }
  }
 },
 "nbformat": 4,
 "nbformat_minor": 5
}
